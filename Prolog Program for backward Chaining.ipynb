{
 "cells": [
  {
   "cell_type": "code",
   "execution_count": 1,
   "id": "701f9bed",
   "metadata": {},
   "outputs": [
    {
     "name": "stdout",
     "output_type": "stream",
     "text": [
      "Is John committing a crime?\n",
      "True\n",
      "\n",
      "Does someone sell weapons to a hostile nation?\n",
      "True\n"
     ]
    }
   ],
   "source": [
    "# -----------------------------\n",
    "# Backward Chaining in Python\n",
    "# -----------------------------\n",
    "\n",
    "# Knowledge base (facts)\n",
    "facts = {\"american(john)\", \"hostile(nono)\", \"sells_weapons(john,nono)\"}\n",
    "\n",
    "# Rules (head : list of conditions)\n",
    "rules = {\n",
    "    \"crime(X)\": [\"american(X)\", \"sells_weapons(X,Y)\", \"hostile(Y)\"]\n",
    "}\n",
    "\n",
    "# Backward chaining function\n",
    "def backward_chaining(goal):\n",
    "    if goal in facts:\n",
    "        return True\n",
    "    if goal in rules:\n",
    "        conditions = rules[goal]\n",
    "        for cond in conditions:\n",
    "            # Replace variables with actual names for this example\n",
    "            cond_eval = cond.replace(\"X\", \"john\").replace(\"Y\", \"nono\")\n",
    "            if cond_eval not in facts and not backward_chaining(cond_eval):\n",
    "                return False\n",
    "        return True\n",
    "    return False\n",
    "\n",
    "# Queries\n",
    "print(\"Is John committing a crime?\")\n",
    "print(backward_chaining(\"crime(X)\"))  # True\n",
    "\n",
    "print(\"\\nDoes someone sell weapons to a hostile nation?\")\n",
    "print(backward_chaining(\"sells_weapons(john,nono)\"))  # True\n"
   ]
  }
 ],
 "metadata": {
  "kernelspec": {
   "display_name": "Python 3",
   "language": "python",
   "name": "python3"
  },
  "language_info": {
   "codemirror_mode": {
    "name": "ipython",
    "version": 3
   },
   "file_extension": ".py",
   "mimetype": "text/x-python",
   "name": "python",
   "nbconvert_exporter": "python",
   "pygments_lexer": "ipython3",
   "version": "3.13.7"
  }
 },
 "nbformat": 4,
 "nbformat_minor": 5
}
