{
 "cells": [
  {
   "cell_type": "code",
   "execution_count": null,
   "id": "5c91636a",
   "metadata": {},
   "outputs": [],
   "source": [
    "# Tic Tac Toe Game in Python\n",
    "\n",
    "# Create the board\n",
    "board = [\" \" for _ in range(9)]\n",
    "\n",
    "# Function to print the board\n",
    "def print_board():\n",
    "    print(f\"{board[0]} | {board[1]} | {board[2]}\")\n",
    "    print(\"--+---+--\")\n",
    "    print(f\"{board[3]} | {board[4]} | {board[5]}\")\n",
    "    print(\"--+---+--\")\n",
    "    print(f\"{board[6]} | {board[7]} | {board[8]}\")\n",
    "\n",
    "# Check for winner\n",
    "def check_winner(player):\n",
    "    win_cond = [(0,1,2),(3,4,5),(6,7,8),(0,3,6),(1,4,7),(2,5,8),(0,4,8),(2,4,6)]\n",
    "    for a,b,c in win_cond:\n",
    "        if board[a] == board[b] == board[c] == player:\n",
    "            return True\n",
    "    return False\n",
    "\n",
    "# Check for tie\n",
    "def check_tie():\n",
    "    return \" \" not in board\n",
    "\n",
    "# Main game loop\n",
    "def tic_tac_toe():\n",
    "    player = \"X\"\n",
    "    while True:\n",
    "        print_board()\n",
    "        move = int(input(f\"Player {player}, enter your move (1-9): \")) - 1\n",
    "        if board[move] != \" \":\n",
    "            print(\"Invalid move! Try again.\")\n",
    "            continue\n",
    "        board[move] = player\n",
    "        if check_winner(player):\n",
    "            print_board()\n",
    "            print(f\"Player {player} wins!\")\n",
    "            break\n",
    "        if check_tie():\n",
    "            print_board()\n",
    "            print(\"It's a tie!\")\n",
    "            break\n",
    "        player = \"O\" if player == \"X\" else \"X\"\n",
    "\n",
    "# Run the game\n",
    "tic_tac_toe()\n"
   ]
  }
 ],
 "metadata": {
  "language_info": {
   "name": "python"
  }
 },
 "nbformat": 4,
 "nbformat_minor": 5
}
