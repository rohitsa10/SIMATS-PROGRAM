{
 "cells": [
  {
   "cell_type": "code",
   "execution_count": 2,
   "id": "e4b1bc15",
   "metadata": {},
   "outputs": [
    {
     "name": "stdout",
     "output_type": "stream",
     "text": [
      "Pits: {(1, 2)}\n",
      "Wumpus: {(2, 1)}\n",
      "Gold: {(2, 2)}\n",
      "Safe cells: {(1, 1), (2, 2)}\n"
     ]
    },
    {
     "data": {
      "text/plain": [
       "'Sample Output:\\n\\nPits: {(1, 2)}\\nWumpus: {(2, 1)}\\nGold: {(2, 2)}\\nSafe cells: {(1, 1), (2, 2)}'"
      ]
     },
     "execution_count": 2,
     "metadata": {},
     "output_type": "execute_result"
    }
   ],
   "source": [
    "# Wumpus World in Python\n",
    "\n",
    "# Percepts (facts)\n",
    "breeze = {(1,2)}\n",
    "stench = {(2,1)}\n",
    "glitter = {(2,2)}\n",
    "\n",
    "# Inference rules\n",
    "pits = set()\n",
    "wumpus = set()\n",
    "gold = set()\n",
    "safe = set()\n",
    "\n",
    "# Infer pits\n",
    "for x,y in breeze:\n",
    "    pits.add((x,y))\n",
    "\n",
    "# Infer Wumpus\n",
    "for x,y in stench:\n",
    "    wumpus.add((x,y))\n",
    "\n",
    "# Infer Gold\n",
    "for x,y in glitter:\n",
    "    gold.add((x,y))\n",
    "\n",
    "# Infer safe cells (assuming a 2x2 grid for simplicity)\n",
    "for i in range(1,3):\n",
    "    for j in range(1,3):\n",
    "        if (i,j) not in pits and (i,j) not in wumpus:\n",
    "            safe.add((i,j))\n",
    "\n",
    "# Output\n",
    "print(\"Pits:\", pits)\n",
    "print(\"Wumpus:\", wumpus)\n",
    "print(\"Gold:\", gold)\n",
    "print(\"Safe cells:\", safe)\n",
    "\n",
    "\n",
    "\"\"\"Sample Output:\n",
    "\n",
    "Pits: {(1, 2)}\n",
    "Wumpus: {(2, 1)}\n",
    "Gold: {(2, 2)}\n",
    "Safe cells: {(1, 1), (2, 2)}\"\"\"\n"
   ]
  }
 ],
 "metadata": {
  "kernelspec": {
   "display_name": "Python 3",
   "language": "python",
   "name": "python3"
  },
  "language_info": {
   "codemirror_mode": {
    "name": "ipython",
    "version": 3
   },
   "file_extension": ".py",
   "mimetype": "text/x-python",
   "name": "python",
   "nbconvert_exporter": "python",
   "pygments_lexer": "ipython3",
   "version": "3.13.7"
  }
 },
 "nbformat": 4,
 "nbformat_minor": 5
}
