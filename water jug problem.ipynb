{
 "cells": [
  {
   "cell_type": "code",
   "execution_count": 1,
   "id": "7467c1fd",
   "metadata": {},
   "outputs": [
    {
     "name": "stdout",
     "output_type": "stream",
     "text": [
      "(0, 0)\n",
      "(4, 0)\n",
      "(4, 3)\n",
      "(0, 3)\n",
      "(3, 0)\n",
      "(3, 3)\n",
      "(4, 2)\n",
      "Reached target!\n"
     ]
    },
    {
     "data": {
      "text/plain": [
       "' Explanation of Steps\\n\\n(0, 0) → initial state.\\n\\n(4, 0) → fill Jug1 completely.\\n\\n(4, 3) → fill Jug2 completely.\\n\\n(0, 3) → empty Jug1.\\n\\n(3, 0) → pour from Jug2 into Jug1.\\n\\n(3, 3) → fill Jug2 again.\\n\\n(4, 2) → pour from Jug2 into Jug1 until Jug1 is full, leaving 2 liters in Jug2.\\n\\n Target achieved (Jug2 = 2).'"
      ]
     },
     "execution_count": 1,
     "metadata": {},
     "output_type": "execute_result"
    }
   ],
   "source": [
    "def water_jug_dfs(jug1, jug2, target, x=0, y=0, visited=None):\n",
    "    if visited is None:\n",
    "        visited = set()\n",
    "\n",
    "    # Stop if already visited\n",
    "    if (x, y) in visited:\n",
    "        return False\n",
    "    visited.add((x, y))\n",
    "\n",
    "    # Print new state\n",
    "    print(f\"({x}, {y})\")\n",
    "\n",
    "    # Goal check\n",
    "    if x == target or y == target:\n",
    "        print(\"Reached target!\")\n",
    "        return True\n",
    "\n",
    "    # Possible moves\n",
    "    moves = [\n",
    "        (jug1, y),  # fill jug1\n",
    "        (x, jug2),  # fill jug2\n",
    "        (0, y),     # empty jug1\n",
    "        (x, 0),     # empty jug2\n",
    "        (x - min(x, jug2 - y), y + min(x, jug2 - y)),  # pour jug1 -> jug2\n",
    "        (x + min(y, jug1 - x), y - min(y, jug1 - x))   # pour jug2 -> jug1\n",
    "    ]\n",
    "\n",
    "    # Explore each move (DFS)\n",
    "    for new_x, new_y in moves:\n",
    "        if water_jug_dfs(jug1, jug2, target, new_x, new_y, visited):\n",
    "            return True\n",
    "    return False\n",
    "\n",
    "\n",
    "# Example Run\n",
    "water_jug_dfs(4, 3, 2)\n",
    "\"\"\" Explanation of Steps\n",
    "\n",
    "(0, 0) → initial state.\n",
    "\n",
    "(4, 0) → fill Jug1 completely.\n",
    "\n",
    "(4, 3) → fill Jug2 completely.\n",
    "\n",
    "(0, 3) → empty Jug1.\n",
    "\n",
    "(3, 0) → pour from Jug2 into Jug1.\n",
    "\n",
    "(3, 3) → fill Jug2 again.\n",
    "\n",
    "(4, 2) → pour from Jug2 into Jug1 until Jug1 is full, leaving 2 liters in Jug2.\n",
    "\n",
    " Target achieved (Jug2 = 2).\"\"\"\n"
   ]
  }
 ],
 "metadata": {
  "kernelspec": {
   "display_name": "Python 3",
   "language": "python",
   "name": "python3"
  },
  "language_info": {
   "codemirror_mode": {
    "name": "ipython",
    "version": 3
   },
   "file_extension": ".py",
   "mimetype": "text/x-python",
   "name": "python",
   "nbconvert_exporter": "python",
   "pygments_lexer": "ipython3",
   "version": "3.13.7"
  }
 },
 "nbformat": 4,
 "nbformat_minor": 5
}
