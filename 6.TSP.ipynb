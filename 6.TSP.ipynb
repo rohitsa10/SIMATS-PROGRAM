{
 "cells": [
  {
   "cell_type": "code",
   "execution_count": null,
   "id": "4a10d4f0",
   "metadata": {},
   "outputs": [
    {
     "name": "stdout",
     "output_type": "stream",
     "text": [
      "Minimum Cost: 80\n",
      "Best Path: [0, 1, 3, 2, 0]\n"
     ]
    }
   ],
   "source": [
    "from itertools import permutations\n",
    "\n",
    "# Distance matrix (symmetric)\n",
    "dist = [\n",
    "    [0, 10, 15, 20],\n",
    "    [10, 0, 35, 25],\n",
    "    [15, 35, 0, 30],\n",
    "    [20, 25, 30, 0]\n",
    "]\n",
    "\n",
    "cities = [0, 1, 2, 3]\n",
    "\n",
    "min_cost = float('inf')\n",
    "best_path = []\n",
    "\n",
    "# Generate all possible paths\n",
    "for perm in permutations(cities[1:]):  # start from city 0\n",
    "    path = [0] + list(perm)\n",
    "    cost = 0\n",
    "    for i in range(len(path)-1):\n",
    "        cost += dist[path[i]][path[i+1]]\n",
    "    cost += dist[path[-1]][0]  # return to starting city\n",
    "    if cost < min_cost:\n",
    "        min_cost = cost\n",
    "        best_path = path\n",
    "\n",
    "print(\"Minimum Cost:\", min_cost)\n",
    "print(\"Best Path:\", best_path + [0])\n",
    "\n",
    "\"\"\"ROHIT-192553001\"\"\""
   ]
  }
 ],
 "metadata": {
  "kernelspec": {
   "display_name": "Python 3",
   "language": "python",
   "name": "python3"
  },
  "language_info": {
   "codemirror_mode": {
    "name": "ipython",
    "version": 3
   },
   "file_extension": ".py",
   "mimetype": "text/x-python",
   "name": "python",
   "nbconvert_exporter": "python",
   "pygments_lexer": "ipython3",
   "version": "3.13.7"
  }
 },
 "nbformat": 4,
 "nbformat_minor": 5
}
