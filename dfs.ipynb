{
 "cells": [
  {
   "cell_type": "code",
   "execution_count": 1,
   "id": "03fc3ad6",
   "metadata": {},
   "outputs": [
    {
     "name": "stdout",
     "output_type": "stream",
     "text": [
      "Enter edges (u v):\n",
      "\n",
      "DFS Traversal:\n",
      "A B D E F C "
     ]
    }
   ],
   "source": [
    "def dfs(graph, node, visited=None):\n",
    "    if visited is None:\n",
    "        visited = set()\n",
    "    if node not in visited:\n",
    "        print(node, end=\" \")\n",
    "        visited.add(node)\n",
    "        for neighbor in graph[node]:\n",
    "            dfs(graph, neighbor, visited)\n",
    "\n",
    "# --- User Input ---\n",
    "n = int(input(\"Enter number of vertices: \"))\n",
    "m = int(input(\"Enter number of edges: \"))\n",
    "\n",
    "graph = {chr(65+i): [] for i in range(n)}  # A, B, C, ...\n",
    "\n",
    "print(\"Enter edges (u v):\")\n",
    "for _ in range(m):\n",
    "    u, v = input().split()\n",
    "    graph[u].append(v)   # directed edge\n",
    "    # graph[v].append(u) # uncomment for undirected graph\n",
    "\n",
    "start = input(\"Enter start node: \")\n",
    "\n",
    "print(\"\\nDFS Traversal:\")\n",
    "dfs(graph, start)\n"
   ]
  }
 ],
 "metadata": {
  "kernelspec": {
   "display_name": "Python 3",
   "language": "python",
   "name": "python3"
  },
  "language_info": {
   "codemirror_mode": {
    "name": "ipython",
    "version": 3
   },
   "file_extension": ".py",
   "mimetype": "text/x-python",
   "name": "python",
   "nbconvert_exporter": "python",
   "pygments_lexer": "ipython3",
   "version": "3.13.7"
  }
 },
 "nbformat": 4,
 "nbformat_minor": 5
}
