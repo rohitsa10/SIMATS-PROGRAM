{
 "cells": [
  {
   "cell_type": "code",
   "execution_count": 1,
   "id": "5c210c93",
   "metadata": {},
   "outputs": [
    {
     "name": "stdout",
     "output_type": "stream",
     "text": [
      "Inferred Facts: {'crime(john)'}\n"
     ]
    }
   ],
   "source": [
    "# Forward Chaining in Python\n",
    "\n",
    "# Knowledge base (facts)\n",
    "facts = {\"american(john)\", \"hostile(nono)\", \"sells_weapons(john,nono)\"}\n",
    "\n",
    "# Rules\n",
    "rules = [\n",
    "    (\"crime(X)\", [\"american(X)\", \"sells_weapons(X,Y)\", \"hostile(Y)\"])\n",
    "]\n",
    "\n",
    "# Forward chaining function\n",
    "def forward_chaining(facts, rules):\n",
    "    inferred = set()\n",
    "    for head, body in rules:\n",
    "        for fact in facts:\n",
    "            # Check if all conditions are satisfied\n",
    "            if all(any(fact.startswith(cond.split('(')[0]) for fact in facts) for cond in body):\n",
    "                inferred.add(head.replace(\"X\", \"john\").replace(\"Y\", \"nono\"))\n",
    "    return inferred\n",
    "\n",
    "# Run forward chaining\n",
    "result = forward_chaining(facts, rules)\n",
    "print(\"Inferred Facts:\", result)\n"
   ]
  }
 ],
 "metadata": {
  "kernelspec": {
   "display_name": "Python 3",
   "language": "python",
   "name": "python3"
  },
  "language_info": {
   "codemirror_mode": {
    "name": "ipython",
    "version": 3
   },
   "file_extension": ".py",
   "mimetype": "text/x-python",
   "name": "python",
   "nbconvert_exporter": "python",
   "pygments_lexer": "ipython3",
   "version": "3.13.7"
  }
 },
 "nbformat": 4,
 "nbformat_minor": 5
}
