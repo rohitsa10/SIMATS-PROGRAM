{
 "cells": [
  {
   "cell_type": "code",
   "execution_count": null,
   "id": "f567f762",
   "metadata": {},
   "outputs": [
    {
     "name": "stdout",
     "output_type": "stream",
     "text": [
      "Best value from root: 4\n"
     ]
    }
   ],
   "source": [
    "def alpha_beta(node, depth, alpha, beta, maximizing_player):\n",
    "    # Leaf node (integer value)\n",
    "    if isinstance(node, int) or depth == 0:\n",
    "        return node if isinstance(node, int) else 0\n",
    "\n",
    "    if maximizing_player:\n",
    "        value = float('-inf')\n",
    "        for child in tree[node]:\n",
    "            value = max(value, alpha_beta(child, depth - 1, alpha, beta, False))\n",
    "            alpha = max(alpha, value)\n",
    "            if alpha >= beta:\n",
    "                break  # Beta cut-off\n",
    "        return value\n",
    "    else:\n",
    "        value = float('inf')\n",
    "        for child in tree[node]:\n",
    "            value = min(value, alpha_beta(child, depth - 1, alpha, beta, True))\n",
    "            beta = min(beta, value)\n",
    "            if alpha >= beta:\n",
    "                break  # Alpha cut-off\n",
    "        return value\n",
    "\n",
    "\n",
    "# -------------------------------\n",
    "# Example Game Tree\n",
    "# -------------------------------\n",
    "tree = {\n",
    "    \"root\": [\"A\", \"B\", \"C\"],\n",
    "    \"A\": [3, 12],\n",
    "    \"B\": [8, 2],\n",
    "    \"C\": [4, 6, 14]\n",
    "}\n",
    "\n",
    "# Run from root (maximizer starts)\n",
    "best_value = alpha_beta(\"root\", depth=3, alpha=float('-inf'), beta=float('inf'), maximizing_player=True)\n",
    "\n",
    "print(\"Best value from root:\", best_value)\n",
    "\n",
    "\"\"\"ROHIT-192553001\"\"\""
   ]
  }
 ],
 "metadata": {
  "kernelspec": {
   "display_name": "Python 3",
   "language": "python",
   "name": "python3"
  },
  "language_info": {
   "codemirror_mode": {
    "name": "ipython",
    "version": 3
   },
   "file_extension": ".py",
   "mimetype": "text/x-python",
   "name": "python",
   "nbconvert_exporter": "python",
   "pygments_lexer": "ipython3",
   "version": "3.13.7"
  }
 },
 "nbformat": 4,
 "nbformat_minor": 5
}
