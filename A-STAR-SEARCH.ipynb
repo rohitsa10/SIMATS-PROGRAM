{
 "cells": [
  {
   "cell_type": "code",
   "execution_count": 1,
   "id": "cb0bb973",
   "metadata": {},
   "outputs": [
    {
     "name": "stdout",
     "output_type": "stream",
     "text": [
      "\n",
      "Enter heuristic values:\n",
      "\n",
      "A* Path: ['A', 'B', 'D', 'G']\n",
      "Total Cost: 4\n"
     ]
    }
   ],
   "source": [
    "import heapq\n",
    "\n",
    "def a_star(graph, start, goal, heuristic):\n",
    "    queue = [(0 + heuristic[start], start, [start], 0)]  # (f, node, path, g)\n",
    "    visited = set()\n",
    "\n",
    "    while queue:\n",
    "        f, node, path, g = heapq.heappop(queue)\n",
    "\n",
    "        if node in visited:\n",
    "            continue\n",
    "        visited.add(node)\n",
    "\n",
    "        if node == goal:\n",
    "            return path, g\n",
    "\n",
    "        for neighbor, cost in graph[node]:\n",
    "            if neighbor not in visited:\n",
    "                g_new = g + cost\n",
    "                f_new = g_new + heuristic[neighbor]\n",
    "                heapq.heappush(queue, (f_new, neighbor, path + [neighbor], g_new))\n",
    "\n",
    "    return None, float(\"inf\")\n",
    "\n",
    "\n",
    "# --- User Input ---\n",
    "n = int(input(\"Enter number of nodes: \"))\n",
    "graph = {}\n",
    "\n",
    "for _ in range(n):\n",
    "    node = input(\"Enter node name: \")\n",
    "    edges = input(f\"Enter neighbors of {node} in format (neighbor,cost) separated by space: \")\n",
    "    edge_list = []\n",
    "    if edges.strip():  # if not empty\n",
    "        for e in edges.split():\n",
    "            neighbor, cost = e.split(\",\")\n",
    "            edge_list.append((neighbor, int(cost)))\n",
    "    graph[node] = edge_list\n",
    "\n",
    "heuristic = {}\n",
    "print(\"\\nEnter heuristic values:\")\n",
    "for node in graph:\n",
    "    heuristic[node] = int(input(f\"h({node}) = \"))\n",
    "\n",
    "start = input(\"\\nEnter start node: \")\n",
    "goal = input(\"Enter goal node: \")\n",
    "\n",
    "# --- Run A* ---\n",
    "path, cost = a_star(graph, start, goal, heuristic)\n",
    "print(\"\\nA* Path:\", path)\n",
    "print(\"Total Cost:\", cost)\n"
   ]
  }
 ],
 "metadata": {
  "kernelspec": {
   "display_name": "Python 3",
   "language": "python",
   "name": "python3"
  },
  "language_info": {
   "codemirror_mode": {
    "name": "ipython",
    "version": 3
   },
   "file_extension": ".py",
   "mimetype": "text/x-python",
   "name": "python",
   "nbconvert_exporter": "python",
   "pygments_lexer": "ipython3",
   "version": "3.13.7"
  }
 },
 "nbformat": 4,
 "nbformat_minor": 5
}
