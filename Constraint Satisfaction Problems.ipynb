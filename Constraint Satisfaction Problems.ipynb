{
 "cells": [
  {
   "cell_type": "code",
   "execution_count": 1,
   "id": "b42e717b",
   "metadata": {},
   "outputs": [
    {
     "name": "stdout",
     "output_type": "stream",
     "text": [
      "Solution:\n",
      "{'WA': 'Red', 'NT': 'Green', 'SA': 'Blue', 'Q': 'Red', 'NSW': 'Green', 'V': 'Red', 'T': 'Red'}\n"
     ]
    }
   ],
   "source": [
    "# Define variables (regions) and domains (colors)\n",
    "variables = ['WA', 'NT', 'SA', 'Q', 'NSW', 'V', 'T']\n",
    "colors = ['Red', 'Green', 'Blue']\n",
    "\n",
    "# Adjacency constraints\n",
    "neighbors = {\n",
    "    'WA': ['NT', 'SA'],\n",
    "    'NT': ['WA', 'SA', 'Q'],\n",
    "    'SA': ['WA', 'NT', 'Q', 'NSW', 'V'],\n",
    "    'Q': ['NT', 'SA', 'NSW'],\n",
    "    'NSW': ['Q', 'SA', 'V'],\n",
    "    'V': ['SA', 'NSW'],\n",
    "    'T': []\n",
    "}\n",
    "\n",
    "# Backtracking search\n",
    "def is_consistent(var, color, assignment):\n",
    "    for neighbor in neighbors[var]:\n",
    "        if neighbor in assignment and assignment[neighbor] == color:\n",
    "            return False\n",
    "    return True\n",
    "\n",
    "def backtrack(assignment):\n",
    "    # If all variables are assigned, return assignment\n",
    "    if len(assignment) == len(variables):\n",
    "        return assignment\n",
    "\n",
    "    # Select an unassigned variable\n",
    "    unassigned = [v for v in variables if v not in assignment]\n",
    "    var = unassigned[0]\n",
    "\n",
    "    for color in colors:\n",
    "        if is_consistent(var, color, assignment):\n",
    "            assignment[var] = color\n",
    "            result = backtrack(assignment)\n",
    "            if result:\n",
    "                return result\n",
    "            # Backtrack\n",
    "            del assignment[var]\n",
    "\n",
    "    return None\n",
    "\n",
    "# Solve CSP\n",
    "solution = backtrack({})\n",
    "print(\"Solution:\")\n",
    "print(solution)\n"
   ]
  }
 ],
 "metadata": {
  "kernelspec": {
   "display_name": "Python 3",
   "language": "python",
   "name": "python3"
  },
  "language_info": {
   "codemirror_mode": {
    "name": "ipython",
    "version": 3
   },
   "file_extension": ".py",
   "mimetype": "text/x-python",
   "name": "python",
   "nbconvert_exporter": "python",
   "pygments_lexer": "ipython3",
   "version": "3.13.7"
  }
 },
 "nbformat": 4,
 "nbformat_minor": 5
}
