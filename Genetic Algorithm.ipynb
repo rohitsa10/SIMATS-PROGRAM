{
 "cells": [
  {
   "cell_type": "code",
   "execution_count": 1,
   "id": "4f8c1fbb",
   "metadata": {},
   "outputs": [
    {
     "name": "stdout",
     "output_type": "stream",
     "text": [
      "Best x: -0.3197003026527725\n",
      "Minimum value: -3.0938030904065936\n"
     ]
    }
   ],
   "source": [
    "import random\n",
    "import math\n",
    "\n",
    "# Function to minimize\n",
    "def f(x):\n",
    "    return x**2 + 4*math.sin(5*x) + math.cos(2*x)\n",
    "\n",
    "# GA parameters\n",
    "population_size = 20\n",
    "generations = 50\n",
    "mutation_rate = 0.1\n",
    "x_min, x_max = -10, 10\n",
    "\n",
    "# Create initial population\n",
    "population = [random.uniform(x_min, x_max) for _ in range(population_size)]\n",
    "\n",
    "# Evaluate fitness (lower f(x) = higher fitness)\n",
    "def fitness(x):\n",
    "    return -f(x)  # negative because GA maximizes fitness by default\n",
    "\n",
    "# Selection: Tournament Selection\n",
    "def select(pop):\n",
    "    return max(random.sample(pop, 3), key=fitness)\n",
    "\n",
    "# Crossover: Average of two parents\n",
    "def crossover(p1, p2):\n",
    "    return (p1 + p2) / 2\n",
    "\n",
    "# Mutation: Add small random value\n",
    "def mutate(x):\n",
    "    if random.random() < mutation_rate:\n",
    "        x += random.uniform(-1, 1)\n",
    "        x = max(min(x, x_max), x_min)\n",
    "    return x\n",
    "\n",
    "# Main GA loop\n",
    "for gen in range(generations):\n",
    "    new_population = []\n",
    "    for _ in range(population_size):\n",
    "        parent1 = select(population)\n",
    "        parent2 = select(population)\n",
    "        child = crossover(parent1, parent2)\n",
    "        child = mutate(child)\n",
    "        new_population.append(child)\n",
    "    population = new_population\n",
    "\n",
    "# Get best solution\n",
    "best_solution = min(population, key=f)\n",
    "print(\"Best x:\", best_solution)\n",
    "print(\"Minimum value:\", f(best_solution))\n"
   ]
  }
 ],
 "metadata": {
  "kernelspec": {
   "display_name": "Python 3",
   "language": "python",
   "name": "python3"
  },
  "language_info": {
   "codemirror_mode": {
    "name": "ipython",
    "version": 3
   },
   "file_extension": ".py",
   "mimetype": "text/x-python",
   "name": "python",
   "nbconvert_exporter": "python",
   "pygments_lexer": "ipython3",
   "version": "3.13.7"
  }
 },
 "nbformat": 4,
 "nbformat_minor": 5
}
