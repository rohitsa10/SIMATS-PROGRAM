{
 "cells": [
  {
   "cell_type": "code",
   "execution_count": null,
   "id": "8ea7a24b",
   "metadata": {},
   "outputs": [
    {
     "name": "stdout",
     "output_type": "stream",
     "text": [
      "Hill Climbing Result:\n",
      "Best x: 3\n",
      "Best value: 9\n"
     ]
    }
   ],
   "source": [
    "import random\n",
    "\n",
    "def hill_climbing(function, start=None, step_size=0.1, max_iterations=1000):\n",
    "    # If no start given, choose random between -10 and 10\n",
    "    if start is None:\n",
    "        current = random.uniform(-10, 10)\n",
    "    else:\n",
    "        current = start\n",
    "\n",
    "    for _ in range(max_iterations):\n",
    "        # Generate neighbors\n",
    "        neighbors = [current + step_size, current - step_size]\n",
    "\n",
    "        # Pick the neighbor with the best function value\n",
    "        next_move = max(neighbors, key=function)\n",
    "\n",
    "        # If no improvement, stop\n",
    "        if function(next_move) <= function(current):\n",
    "            break\n",
    "\n",
    "        current = next_move\n",
    "\n",
    "    return current, function(current)\n",
    "\n",
    "\n",
    "# --- Example Usage ---\n",
    "# Function: f(x) = -(x-3)^2 + 9  (peak at x=3, value=9)\n",
    "def f(x):\n",
    "    return -(x - 3)**2 + 9\n",
    "\n",
    "best_x, best_val = hill_climbing(f, start=-5, step_size=1, max_iterations=50)\n",
    "\n",
    "print(\"Hill Climbing Result:\")\n",
    "print(\"Best x:\", best_x)\n",
    "print(\"Best value:\", best_val)\n",
    "\n",
    "\"\"\"ROHIT-192553001\"\"\"\n"
   ]
  }
 ],
 "metadata": {
  "kernelspec": {
   "display_name": "Python 3",
   "language": "python",
   "name": "python3"
  },
  "language_info": {
   "codemirror_mode": {
    "name": "ipython",
    "version": 3
   },
   "file_extension": ".py",
   "mimetype": "text/x-python",
   "name": "python",
   "nbconvert_exporter": "python",
   "pygments_lexer": "ipython3",
   "version": "3.13.7"
  }
 },
 "nbformat": 4,
 "nbformat_minor": 5
}
