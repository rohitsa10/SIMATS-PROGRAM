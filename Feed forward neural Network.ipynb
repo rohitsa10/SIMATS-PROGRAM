{
 "cells": [
  {
   "cell_type": "code",
   "execution_count": 1,
   "id": "b365089c",
   "metadata": {},
   "outputs": [
    {
     "name": "stdout",
     "output_type": "stream",
     "text": [
      "Output after training:\n",
      " [[0.04690963]\n",
      " [0.95663392]\n",
      " [0.92548675]\n",
      " [0.07177571]]\n"
     ]
    }
   ],
   "source": [
    "import numpy as np\n",
    "\n",
    "# Activation\n",
    "sigmoid = lambda x: 1/(1+np.exp(-x))\n",
    "sigmoid_derivative = lambda x: x*(1-x)\n",
    "\n",
    "# XOR dataset\n",
    "X = np.array([[0,0],[0,1],[1,0],[1,1]])\n",
    "y = np.array([[0],[1],[1],[0]])\n",
    "\n",
    "# Parameters\n",
    "np.random.seed(42)\n",
    "W1 = np.random.rand(2,4); b1 = np.random.rand(1,4)\n",
    "W2 = np.random.rand(4,1); b2 = np.random.rand(1,1)\n",
    "lr = 0.1; epochs = 10000\n",
    "\n",
    "# Training\n",
    "for _ in range(epochs):\n",
    "    h = sigmoid(np.dot(X,W1)+b1)\n",
    "    o = sigmoid(np.dot(h,W2)+b2)\n",
    "    e = y - o\n",
    "    d_o = e*sigmoid_derivative(o)\n",
    "    d_h = d_o.dot(W2.T)*sigmoid_derivative(h)\n",
    "    W2 += h.T.dot(d_o)*lr; b2 += np.sum(d_o,0,keepdims=True)*lr\n",
    "    W1 += X.T.dot(d_h)*lr; b1 += np.sum(d_h,0,keepdims=True)*lr\n",
    "\n",
    "print(\"Output after training:\\n\", o)\n"
   ]
  }
 ],
 "metadata": {
  "kernelspec": {
   "display_name": "Python 3",
   "language": "python",
   "name": "python3"
  },
  "language_info": {
   "codemirror_mode": {
    "name": "ipython",
    "version": 3
   },
   "file_extension": ".py",
   "mimetype": "text/x-python",
   "name": "python",
   "nbconvert_exporter": "python",
   "pygments_lexer": "ipython3",
   "version": "3.13.7"
  }
 },
 "nbformat": 4,
 "nbformat_minor": 5
}
