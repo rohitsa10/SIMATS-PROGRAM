{
 "cells": [
  {
   "cell_type": "code",
   "execution_count": null,
   "id": "a9eb9ae0",
   "metadata": {},
   "outputs": [
    {
     "name": "stdout",
     "output_type": "stream",
     "text": [
      "Optimal value for maximizing player: 23\n"
     ]
    }
   ],
   "source": [
    "# Mini-Max algorithm for a simple two-player game\n",
    "# Example: Players take turns picking numbers from a list; player1 maximizes, player2 minimizes\n",
    "\n",
    "def minimax(values, depth, is_maximizing):\n",
    "    \"\"\"\n",
    "    values: list of possible scores at leaf nodes\n",
    "    depth: current depth (not strictly needed here)\n",
    "    is_maximizing: True if maximizing player, False if minimizing\n",
    "    \"\"\"\n",
    "    # Base case: leaf node\n",
    "    if depth == len(values):\n",
    "        return values[depth-1]  # return the score at this leaf\n",
    "\n",
    "    if is_maximizing:\n",
    "        best = float('-inf')\n",
    "        for v in values:\n",
    "            score = minimax(values, depth + 1, False)\n",
    "            best = max(best, score)\n",
    "        return best\n",
    "    else:\n",
    "        best = float('inf')\n",
    "        for v in values:\n",
    "            score = minimax(values, depth + 1, True)\n",
    "            best = min(best, score)\n",
    "        return best\n",
    "\n",
    "# Example usage\n",
    "# Suppose leaf node scores (final outcomes for the maximizing player)\n",
    "leaf_scores = [3, 5, 2, 9, 12, 5, 23, 23]\n",
    "\n",
    "# Run Mini-Max starting from maximizing player\n",
    "best_score = minimax(leaf_scores, 0, True)\n",
    "print(\"Optimal value for maximizing player:\", best_score)\n",
    "\n",
    "\"\"\"ROHIT-192553001\"\"\"\n"
   ]
  }
 ],
 "metadata": {
  "kernelspec": {
   "display_name": "Python 3",
   "language": "python",
   "name": "python3"
  },
  "language_info": {
   "codemirror_mode": {
    "name": "ipython",
    "version": 3
   },
   "file_extension": ".py",
   "mimetype": "text/x-python",
   "name": "python",
   "nbconvert_exporter": "python",
   "pygments_lexer": "ipython3",
   "version": "3.13.7"
  }
 },
 "nbformat": 4,
 "nbformat_minor": 5
}
