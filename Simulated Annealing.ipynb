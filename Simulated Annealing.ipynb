{
 "cells": [
  {
   "cell_type": "code",
   "execution_count": 1,
   "id": "3dd684a4",
   "metadata": {},
   "outputs": [
    {
     "name": "stdout",
     "output_type": "stream",
     "text": [
      "Minimum value found: -3.418744970028078\n",
      "At x = 0.9488824616450264\n"
     ]
    }
   ],
   "source": [
    "import math\n",
    "import random\n",
    "\n",
    "# Function to minimize\n",
    "def f(x):\n",
    "    return x**2 + 4*math.sin(5*x) + math.cos(2*x)\n",
    "\n",
    "# Simulated Annealing parameters\n",
    "T = 1000        # Initial temperature\n",
    "T_min = 1e-6    # Minimum temperature\n",
    "alpha = 0.9     # Cooling rate\n",
    "\n",
    "# Initial solution\n",
    "x = random.uniform(-10, 10)\n",
    "best_x = x\n",
    "best_f = f(x)\n",
    "\n",
    "while T > T_min:\n",
    "    # Generate new candidate solution\n",
    "    x_new = x + random.uniform(-1, 1)\n",
    "    delta_f = f(x_new) - f(x)\n",
    "\n",
    "    # Accept new solution with probability\n",
    "    if delta_f < 0 or random.random() < math.exp(-delta_f / T):\n",
    "        x = x_new\n",
    "\n",
    "    # Update best solution\n",
    "    if f(x) < best_f:\n",
    "        best_x = x\n",
    "        best_f = f(x)\n",
    "\n",
    "    # Cool down\n",
    "    T *= alpha\n",
    "\n",
    "print(\"Minimum value found:\", best_f)\n",
    "print(\"At x =\", best_x)\n"
   ]
  }
 ],
 "metadata": {
  "kernelspec": {
   "display_name": "Python 3",
   "language": "python",
   "name": "python3"
  },
  "language_info": {
   "codemirror_mode": {
    "name": "ipython",
    "version": 3
   },
   "file_extension": ".py",
   "mimetype": "text/x-python",
   "name": "python",
   "nbconvert_exporter": "python",
   "pygments_lexer": "ipython3",
   "version": "3.13.7"
  }
 },
 "nbformat": 4,
 "nbformat_minor": 5
}
