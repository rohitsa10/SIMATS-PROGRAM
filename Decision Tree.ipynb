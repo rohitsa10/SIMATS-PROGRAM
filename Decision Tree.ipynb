{
 "cells": [
  {
   "cell_type": "code",
   "execution_count": null,
   "id": "a3476617",
   "metadata": {},
   "outputs": [
    {
     "name": "stdout",
     "output_type": "stream",
     "text": [
      "Input samples:\n",
      " [[5.1 3.5 1.4 0.2]\n",
      " [4.9 3.  1.4 0.2]\n",
      " [4.7 3.2 1.3 0.2]\n",
      " [4.6 3.1 1.5 0.2]\n",
      " [5.  3.6 1.4 0.2]]\n",
      "Predicted labels: [0 0 0 0 0]\n",
      "Actual labels   : [0 0 0 0 0]\n"
     ]
    }
   ],
   "source": [
    "from sklearn.datasets import load_iris\n",
    "from sklearn.tree import DecisionTreeClassifier\n",
    "\n",
    "# Load dataset (Iris dataset)\n",
    "iris = load_iris()\n",
    "X = iris.data   # features\n",
    "y = iris.target # labels\n",
    "\n",
    "# Create Decision Tree model\n",
    "clf = DecisionTreeClassifier(criterion=\"gini\", max_depth=3, random_state=42)\n",
    "\n",
    "# Train model\n",
    "clf.fit(X, y)\n",
    "\n",
    "# Predict for first 5 samples\n",
    "predictions = clf.predict(X[:5])\n",
    "\n",
    "print(\"Input samples:\\n\", X[:5])\n",
    "print(\"Predicted labels:\", predictions)\n",
    "print(\"Actual labels   :\", y[:5])\n",
    "\n",
    "\"\"\"ROHIT-192553001\"\"\"\n"
   ]
  }
 ],
 "metadata": {
  "kernelspec": {
   "display_name": "Python 3",
   "language": "python",
   "name": "python3"
  },
  "language_info": {
   "codemirror_mode": {
    "name": "ipython",
    "version": 3
   },
   "file_extension": ".py",
   "mimetype": "text/x-python",
   "name": "python",
   "nbconvert_exporter": "python",
   "pygments_lexer": "ipython3",
   "version": "3.13.7"
  }
 },
 "nbformat": 4,
 "nbformat_minor": 5
}
