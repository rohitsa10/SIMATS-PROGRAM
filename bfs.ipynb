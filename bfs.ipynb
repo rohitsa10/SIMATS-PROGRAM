{
 "cells": [
  {
   "cell_type": "code",
   "execution_count": 1,
   "id": "400ede43",
   "metadata": {},
   "outputs": [
    {
     "name": "stdout",
     "output_type": "stream",
     "text": [
      "Enter edges (u v):\n",
      "\n",
      "BFS Traversal:\n",
      "A B C D E F "
     ]
    }
   ],
   "source": [
    "from collections import deque\n",
    "\n",
    "def bfs(graph, start):\n",
    "    visited = set()\n",
    "    queue = deque([start])\n",
    "\n",
    "    while queue:\n",
    "        node = queue.popleft()\n",
    "        if node not in visited:\n",
    "            print(node, end=\" \")\n",
    "            visited.add(node)\n",
    "            queue.extend(graph[node])\n",
    "\n",
    "# --- User Input ---\n",
    "n = int(input(\"Enter number of vertices: \"))\n",
    "m = int(input(\"Enter number of edges: \"))\n",
    "\n",
    "graph = {chr(65+i): [] for i in range(n)}  # A, B, C, ...\n",
    "\n",
    "print(\"Enter edges (u v):\")\n",
    "for _ in range(m):\n",
    "    u, v = input().split()\n",
    "    graph[u].append(v)   # directed edge\n",
    "    # graph[v].append(u) # uncomment for undirected graph\n",
    "\n",
    "start = input(\"Enter start node: \")\n",
    "\n",
    "print(\"\\nBFS Traversal:\")\n",
    "bfs(graph, start)\n"
   ]
  }
 ],
 "metadata": {
  "kernelspec": {
   "display_name": "Python 3",
   "language": "python",
   "name": "python3"
  },
  "language_info": {
   "codemirror_mode": {
    "name": "ipython",
    "version": 3
   },
   "file_extension": ".py",
   "mimetype": "text/x-python",
   "name": "python",
   "nbconvert_exporter": "python",
   "pygments_lexer": "ipython3",
   "version": "3.13.7"
  }
 },
 "nbformat": 4,
 "nbformat_minor": 5
}
